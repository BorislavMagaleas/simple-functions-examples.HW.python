{
 "cells": [
  {
   "cell_type": "markdown",
   "metadata": {},
   "source": [
    "Hello Function\n",
    "\n",
    "...\n",
    "def functionName( p1, p2, ... ):\n",
    "  ins_1\n",
    "  ins_2\n",
    "  ...\n",
    "  ins_N\n",
    "  return <value>\n",
    "\n",
    "..."
   ]
  },
  {
   "cell_type": "markdown",
   "metadata": {},
   "source": [
    "## Architect"
   ]
  },
  {
   "cell_type": "code",
   "execution_count": 15,
   "metadata": {},
   "outputs": [],
   "source": [
    "# function definition\n",
    "def hi( lang, name ):   # \"en\", \"ru\", \"ro\" ...\n",
    "    if lang == \"en\":\n",
    "        print(f\"Hello {name}!\")\n",
    "    elif lang == \"ru\":\n",
    "        print(f\"Привет {name}!\")\n",
    "    elif lang == \"ro\":\n",
    "        print(f\"Salut {name}!\")\n",
    "    else:\n",
    "        print(f\"ERROR!!! {lang} is not recognized!!!\")"
   ]
  },
  {
   "cell_type": "markdown",
   "metadata": {},
   "source": [
    "# User"
   ]
  },
  {
   "cell_type": "code",
   "execution_count": 16,
   "metadata": {},
   "outputs": [
    {
     "name": "stdout",
     "output_type": "stream",
     "text": [
      "Hello John!\n",
      "Привет Иван!\n",
      "Salut Ion!\n",
      "ERROR!!! xz is not recognized!!!\n"
     ]
    }
   ],
   "source": [
    "# function call\n",
    "hi(\"en\", \"John\")   # +\n",
    "hi(\"ru\", \"Иван\")   # +\n",
    "hi(\"ro\", \"Ion\") \n",
    "hi(\"xz\", \"w1e3\")  "
   ]
  }
 ],
 "metadata": {
  "interpreter": {
   "hash": "537c8cc2de67f12402ee9063eb3c3a961f12005edc49d7b53ab9dfe27f43551a"
  },
  "kernelspec": {
   "display_name": "Python 3.8.10 64-bit",
   "language": "python",
   "name": "python3"
  },
  "language_info": {
   "codemirror_mode": {
    "name": "ipython",
    "version": 3
   },
   "file_extension": ".py",
   "mimetype": "text/x-python",
   "name": "python",
   "nbconvert_exporter": "python",
   "pygments_lexer": "ipython3",
   "version": "3.8.10"
  },
  "orig_nbformat": 4
 },
 "nbformat": 4,
 "nbformat_minor": 2
}
